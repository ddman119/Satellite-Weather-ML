{
 "cells": [
  {
   "cell_type": "markdown",
   "metadata": {},
   "source": [
    "# CNN models for Amazon rainforest image classification"
   ]
  },
  {
   "cell_type": "markdown",
   "metadata": {},
   "source": [
    "Start by adding the helper files to the python path"
   ]
  },
  {
   "cell_type": "code",
   "execution_count": 1,
   "metadata": {},
   "outputs": [],
   "source": [
    "import sys\n",
    "\n",
    "sys.path.append('../src')\n",
    "sys.path.append('../models')"
   ]
  },
  {
   "cell_type": "markdown",
   "metadata": {},
   "source": [
    "Import required modules"
   ]
  },
  {
   "cell_type": "code",
   "execution_count": 2,
   "metadata": {},
   "outputs": [
    {
     "name": "stderr",
     "output_type": "stream",
     "text": [
      "Using TensorFlow backend.\n"
     ]
    }
   ],
   "source": [
    "import os\n",
    "import gc\n",
    "import bcolz\n",
    "import numpy as np\n",
    "import pandas as pd\n",
    "import seaborn as sns\n",
    "import tensorflow as tf\n",
    "import matplotlib.pyplot as plt\n",
    "import matplotlib.image as mpimg\n",
    "from keras.optimizers import Adam\n",
    "from keras.callbacks import ModelCheckpoint, EarlyStopping, ReduceLROnPlateau, History\n",
    "import data_helper\n",
    "from data_helper import AmazonPreprocessor\n",
    "from kaggle_data.downloader import KaggleDataDownloader\n",
    "\n",
    "#choose the model from ../models\n",
    "import vgg16"
   ]
  },
  {
   "cell_type": "markdown",
   "metadata": {},
   "source": [
    "Read in the file including images and labels."
   ]
  },
  {
   "cell_type": "code",
   "execution_count": 3,
   "metadata": {},
   "outputs": [],
   "source": [
    "train, train_u = \"train-jpg.tar.7z\", \"train-jpg.tar\"\n",
    "test, test_u = \"test-jpg.tar.7z\", \"test-jpg.tar\"\n",
    "test_additional, test_additional_u = \"test-jpg-additional.tar.7z\", \"test-jpg-additional.tar\"\n",
    "test_labels = \"train_v2.csv.zip\"\n",
    "destination_path = \"../input/\""
   ]
  },
  {
   "cell_type": "markdown",
   "metadata": {},
   "source": [
    "Load images."
   ]
  },
  {
   "cell_type": "code",
   "execution_count": 4,
   "metadata": {},
   "outputs": [],
   "source": [
    "train_jpeg_dir, test_jpeg_dir, test_jpeg_additional, train_csv_file = data_helper.get_jpeg_data_files_paths()\n",
    "labels_df = pd.read_csv(train_csv_file)"
   ]
  },
  {
   "cell_type": "code",
   "execution_count": 5,
   "metadata": {},
   "outputs": [],
   "source": [
    "from itertools import chain\n",
    "labels_list = list(chain.from_iterable([tags.split(\" \") for tags in labels_df['tags'].values]))\n",
    "labels_set = set(labels_list)\n",
    "labels_s = pd.Series(labels_list).value_counts()\n",
    "images_title = [labels_df[labels_df['tags'].str.contains(label)].iloc[i]['image_name'] + '.jpg' \n",
    "                for i, label in enumerate(labels_set)]\n",
    "for i, (image_name, label) in enumerate(zip(images_title, labels_set)):\n",
    "    img = mpimg.imread(train_jpeg_dir + '/' + image_name)"
   ]
  },
  {
   "cell_type": "markdown",
   "metadata": {},
   "source": [
    "Image resize."
   ]
  },
  {
   "cell_type": "code",
   "execution_count": 6,
   "metadata": {},
   "outputs": [],
   "source": [
    "img_resize = (224, 224)\n",
    "validation_split_size = 0.2"
   ]
  },
  {
   "cell_type": "markdown",
   "metadata": {},
   "source": [
    "Due to the hudge amount of memory the preprocessed images can take, we will create a dedicated `AmazonPreprocessor` class which job is to preprocess the data right in time at specific steps (training/inference) so that our RAM don't get completely filled by the preprocessed images. "
   ]
  },
  {
   "cell_type": "code",
   "execution_count": 7,
   "metadata": {},
   "outputs": [
    {
     "name": "stderr",
     "output_type": "stream",
     "text": [
      "100%|██████████| 32383/32383 [00:00<00:00, 202634.60it/s]\n",
      "100%|██████████| 8096/8096 [00:00<00:00, 189842.26it/s]"
     ]
    },
    {
     "name": "stdout",
     "output_type": "stream",
     "text": [
      "Transforming val dataset...\n"
     ]
    },
    {
     "name": "stderr",
     "output_type": "stream",
     "text": [
      "\n",
      "100%|██████████| 8096/8096 [00:10<00:00, 780.21it/s]\n"
     ]
    },
    {
     "name": "stdout",
     "output_type": "stream",
     "text": [
      "Done. Size consumed by validation matrices 4648.875 mb\n"
     ]
    }
   ],
   "source": [
    "preprocessor = AmazonPreprocessor(train_jpeg_dir, train_csv_file, test_jpeg_dir, test_jpeg_additional, \n",
    "                                  img_resize, validation_split_size)\n",
    "preprocessor.init()"
   ]
  },
  {
   "cell_type": "markdown",
   "metadata": {},
   "source": [
    "Initial the model selected."
   ]
  },
  {
   "cell_type": "code",
   "execution_count": 8,
   "metadata": {},
   "outputs": [
    {
     "name": "stdout",
     "output_type": "stream",
     "text": [
      "WARNING:tensorflow:From /usr/local/lib/python3.5/dist-packages/tensorflow/python/framework/op_def_library.py:263: colocate_with (from tensorflow.python.framework.ops) is deprecated and will be removed in a future version.\n",
      "Instructions for updating:\n",
      "Colocations handled automatically by placer.\n",
      "_________________________________________________________________\n",
      "Layer (type)                 Output Shape              Param #   \n",
      "=================================================================\n",
      "input_1 (InputLayer)         (None, 224, 224, 3)       0         \n",
      "_________________________________________________________________\n",
      "batch_normalization_1 (Batch (None, 224, 224, 3)       12        \n",
      "_________________________________________________________________\n",
      "vgg16 (Model)                (None, 7, 7, 512)         14714688  \n",
      "_________________________________________________________________\n",
      "flatten_1 (Flatten)          (None, 25088)             0         \n",
      "_________________________________________________________________\n",
      "dense_1 (Dense)              (None, 17)                426513    \n",
      "=================================================================\n",
      "Total params: 15,141,213\n",
      "Trainable params: 15,141,207\n",
      "Non-trainable params: 6\n",
      "_________________________________________________________________\n"
     ]
    }
   ],
   "source": [
    "model = vgg16.create_model(img_dim=(224, 224, 3))\n",
    "model.summary()"
   ]
  },
  {
   "cell_type": "markdown",
   "metadata": {},
   "source": [
    "finetune all layers in the model. "
   ]
  },
  {
   "cell_type": "code",
   "execution_count": 9,
   "metadata": {},
   "outputs": [
    {
     "name": "stdout",
     "output_type": "stream",
     "text": [
      "WARNING:tensorflow:From /usr/local/lib/python3.5/dist-packages/tensorflow/python/ops/math_ops.py:3066: to_int32 (from tensorflow.python.ops.math_ops) is deprecated and will be removed in a future version.\n",
      "Instructions for updating:\n",
      "Use tf.cast instead.\n",
      "Epoch 1/25\n",
      "253/252 [==============================] - 491s 2s/step - loss: 0.1342 - acc: 0.9489 - val_loss: 0.1060 - val_acc: 0.9608\n",
      "\n",
      "Epoch 00001: val_loss improved from inf to 0.10596, saving model to weights/weights.best.hdf5\n",
      "Epoch 2/25\n",
      "253/252 [==============================] - 467s 2s/step - loss: 0.1040 - acc: 0.9611 - val_loss: 0.0990 - val_acc: 0.9634\n",
      "\n",
      "Epoch 00002: val_loss improved from 0.10596 to 0.09904, saving model to weights/weights.best.hdf5\n",
      "Epoch 3/25\n",
      "253/252 [==============================] - 468s 2s/step - loss: 0.0978 - acc: 0.9634 - val_loss: 0.0975 - val_acc: 0.9628\n",
      "\n",
      "Epoch 00003: val_loss improved from 0.09904 to 0.09749, saving model to weights/weights.best.hdf5\n",
      "Epoch 4/25\n",
      "253/252 [==============================] - 467s 2s/step - loss: 0.0938 - acc: 0.9647 - val_loss: 0.0967 - val_acc: 0.9636\n",
      "\n",
      "Epoch 00004: val_loss improved from 0.09749 to 0.09666, saving model to weights/weights.best.hdf5\n",
      "Epoch 5/25\n",
      "253/252 [==============================] - 462s 2s/step - loss: 0.0906 - acc: 0.9658 - val_loss: 0.0987 - val_acc: 0.9634\n",
      "\n",
      "Epoch 00005: ReduceLROnPlateau reducing learning rate to 9.999999747378752e-06.\n",
      "\n",
      "Epoch 00005: val_loss did not improve from 0.09666\n",
      "Epoch 6/25\n",
      "253/252 [==============================] - 466s 2s/step - loss: 0.0818 - acc: 0.9687 - val_loss: 0.0882 - val_acc: 0.9668\n",
      "\n",
      "Epoch 00006: val_loss improved from 0.09666 to 0.08817, saving model to weights/weights.best.hdf5\n",
      "Epoch 7/25\n",
      "253/252 [==============================] - 465s 2s/step - loss: 0.0794 - acc: 0.9696 - val_loss: 0.0878 - val_acc: 0.9671\n",
      "\n",
      "Epoch 00007: val_loss improved from 0.08817 to 0.08782, saving model to weights/weights.best.hdf5\n",
      "Epoch 8/25\n",
      "253/252 [==============================] - 466s 2s/step - loss: 0.0783 - acc: 0.9700 - val_loss: 0.0880 - val_acc: 0.9672\n",
      "\n",
      "Epoch 00008: ReduceLROnPlateau reducing learning rate to 9.999999747378752e-07.\n",
      "\n",
      "Epoch 00008: val_loss did not improve from 0.08782\n",
      "Epoch 9/25\n",
      "253/252 [==============================] - 463s 2s/step - loss: 0.0766 - acc: 0.9706 - val_loss: 0.0869 - val_acc: 0.9676\n",
      "\n",
      "Epoch 00009: val_loss improved from 0.08782 to 0.08687, saving model to weights/weights.best.hdf5\n",
      "Epoch 10/25\n",
      "253/252 [==============================] - 465s 2s/step - loss: 0.0761 - acc: 0.9709 - val_loss: 0.0868 - val_acc: 0.9674\n",
      "\n",
      "Epoch 00010: ReduceLROnPlateau reducing learning rate to 1e-07.\n",
      "\n",
      "Epoch 00010: val_loss improved from 0.08687 to 0.08678, saving model to weights/weights.best.hdf5\n",
      "Epoch 11/25\n",
      "253/252 [==============================] - 464s 2s/step - loss: 0.0759 - acc: 0.9710 - val_loss: 0.0867 - val_acc: 0.9674\n",
      "\n",
      "Epoch 00011: val_loss improved from 0.08678 to 0.08670, saving model to weights/weights.best.hdf5\n",
      "Epoch 12/25\n",
      "253/252 [==============================] - 465s 2s/step - loss: 0.0758 - acc: 0.9709 - val_loss: 0.0867 - val_acc: 0.9674\n",
      "\n",
      "Epoch 00012: ReduceLROnPlateau reducing learning rate to 1e-07.\n",
      "\n",
      "Epoch 00012: val_loss improved from 0.08670 to 0.08665, saving model to weights/weights.best.hdf5\n",
      "Epoch 13/25\n",
      "253/252 [==============================] - 463s 2s/step - loss: 0.0758 - acc: 0.9710 - val_loss: 0.0866 - val_acc: 0.9674\n",
      "\n",
      "Epoch 00013: ReduceLROnPlateau reducing learning rate to 1e-07.\n",
      "\n",
      "Epoch 00013: val_loss improved from 0.08665 to 0.08662, saving model to weights/weights.best.hdf5\n",
      "Epoch 14/25\n",
      "253/252 [==============================] - 466s 2s/step - loss: 0.0760 - acc: 0.9711 - val_loss: 0.0866 - val_acc: 0.9674\n",
      "\n",
      "Epoch 00014: val_loss improved from 0.08662 to 0.08659, saving model to weights/weights.best.hdf5\n",
      "Epoch 15/25\n",
      "253/252 [==============================] - 465s 2s/step - loss: 0.0757 - acc: 0.9710 - val_loss: 0.0866 - val_acc: 0.9674\n",
      "\n",
      "Epoch 00015: ReduceLROnPlateau reducing learning rate to 1e-07.\n",
      "\n",
      "Epoch 00015: val_loss improved from 0.08659 to 0.08658, saving model to weights/weights.best.hdf5\n",
      "Epoch 16/25\n",
      "253/252 [==============================] - 466s 2s/step - loss: 0.0756 - acc: 0.9710 - val_loss: 0.0866 - val_acc: 0.9674\n",
      "\n",
      "Epoch 00016: ReduceLROnPlateau reducing learning rate to 1e-07.\n",
      "\n",
      "Epoch 00016: val_loss improved from 0.08658 to 0.08656, saving model to weights/weights.best.hdf5\n",
      "Epoch 17/25\n",
      "253/252 [==============================] - 466s 2s/step - loss: 0.0757 - acc: 0.9710 - val_loss: 0.0866 - val_acc: 0.9674\n",
      "\n",
      "Epoch 00017: ReduceLROnPlateau reducing learning rate to 1e-07.\n",
      "\n",
      "Epoch 00017: val_loss did not improve from 0.08656\n",
      "Epoch 00017: early stopping\n"
     ]
    }
   ],
   "source": [
    "history = History()\n",
    "callbacks = [history,\n",
    "             EarlyStopping(monitor='val_loss', patience=3, verbose=1, min_delta=1e-4),\n",
    "             ReduceLROnPlateau(monitor='val_loss', factor=0.1, patience=1, cooldown=0, min_lr=1e-7, verbose=1),\n",
    "             ModelCheckpoint(filepath='weights/weights.best.hdf5', verbose=1, save_best_only=True, \n",
    "             save_weights_only=True, mode='auto')]\n",
    "\n",
    "X_train, y_train = preprocessor.X_train, preprocessor.y_train\n",
    "X_val, y_val = preprocessor.X_val, preprocessor.y_val\n",
    "\n",
    "batch_size = 128\n",
    "train_generator = preprocessor.get_train_generator(batch_size)\n",
    "steps = len(X_train) / batch_size\n",
    "\n",
    "model.compile(optimizer=Adam(lr=1e-4), loss='binary_crossentropy', metrics = ['accuracy'])\n",
    "history = model.fit_generator(train_generator, steps, epochs=25, verbose=1, \n",
    "                validation_data=(X_val, y_val), callbacks=callbacks)"
   ]
  },
  {
   "cell_type": "markdown",
   "metadata": {},
   "source": [
    "Visualize Loss Curve"
   ]
  },
  {
   "cell_type": "code",
   "execution_count": 10,
   "metadata": {},
   "outputs": [
    {
     "data": {
      "image/png": "[encoded data removed]",
      "text/plain": [
       "<Figure size 432x288 with 1 Axes>"
      ]
     },
     "metadata": {},
     "output_type": "display_data"
    }
   ],
   "source": [
    "plt.plot(history.history['loss'])\n",
    "plt.plot(history.history['val_loss'])\n",
    "plt.title('model loss')\n",
    "plt.ylabel('loss')\n",
    "plt.xlabel('epoch')\n",
    "plt.legend(['train', 'validation'], loc='upper left')\n",
    "plt.show()"
   ]
  },
  {
   "cell_type": "markdown",
   "metadata": {},
   "source": [
    "Load Best Weights"
   ]
  },
  {
   "cell_type": "code",
   "execution_count": 11,
   "metadata": {},
   "outputs": [],
   "source": [
    "model.load_weights(\"weights/weights.best.hdf5\")"
   ]
  },
  {
   "cell_type": "markdown",
   "metadata": {},
   "source": [
    "Analyze"
   ]
  },
  {
   "cell_type": "code",
   "execution_count": 13,
   "metadata": {},
   "outputs": [
    {
     "name": "stdout",
     "output_type": "stream",
     "text": [
      "precision is \n",
      "0.8806904938358744\n",
      "recall is \n",
      "0.9491071428571429\n",
      "F1 is \n",
      "0.9027446265032728\n"
     ]
    }
   ],
   "source": [
    "from sklearn.metrics import precision_recall_fscore_support,accuracy_score\n",
    "p_valid = model.predict(X_val)\n",
    "precision, recall, f1 , support =  precision_recall_fscore_support(y_val, np.array(p_valid) > 0.2,average='samples')\n",
    "print (\"precision is \")\n",
    "print (precision)\n",
    "print (\"recall is \")\n",
    "print (recall)\n",
    "print (\"F1 is \")\n",
    "print (f1)"
   ]
  }
 ],
 "metadata": {
  "kernelspec": {
   "display_name": "Python 3",
   "language": "python",
   "name": "python3"
  },
  "language_info": {
   "codemirror_mode": {
    "name": "ipython",
    "version": 3
   },
   "file_extension": ".py",
   "mimetype": "text/x-python",
   "name": "python",
   "nbconvert_exporter": "python",
   "pygments_lexer": "ipython3",
   "version": "3.5.3"
  },
  "varInspector": {
   "cols": {
    "lenName": 16,
    "lenType": 16,
    "lenVar": 40
   },
   "kernels_config": {
    "python": {
     "delete_cmd_postfix": "",
     "delete_cmd_prefix": "del ",
     "library": "var_list.py",
     "varRefreshCmd": "print(var_dic_list())"
    },
    "r": {
     "delete_cmd_postfix": ") ",
     "delete_cmd_prefix": "rm(",
     "library": "var_list.r",
     "varRefreshCmd": "cat(var_dic_list()) "
    }
   },
   "types_to_exclude": [
    "module",
    "function",
    "builtin_function_or_method",
    "instance",
    "_Feature"
   ],
   "window_display": false
  }
 },
 "nbformat": 4,
 "nbformat_minor": 1
}
